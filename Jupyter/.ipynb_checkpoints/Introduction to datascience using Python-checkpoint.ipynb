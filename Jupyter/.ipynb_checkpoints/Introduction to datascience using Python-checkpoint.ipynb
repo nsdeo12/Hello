{
 "cells": [
  {
   "cell_type": "code",
   "execution_count": 1,
   "metadata": {},
   "outputs": [
    {
     "name": "stdout",
     "output_type": "stream",
     "text": [
      "6\n"
     ]
    }
   ],
   "source": [
    "def add_numbers(x, y,z):\n",
    "  return x+y+z\n",
    "\n",
    "print(add_numbers(1, 2,3))"
   ]
  },
  {
   "cell_type": "code",
   "execution_count": 2,
   "metadata": {},
   "outputs": [
    {
     "data": {
      "text/plain": [
       "3"
      ]
     },
     "execution_count": 2,
     "metadata": {},
     "output_type": "execute_result"
    }
   ],
   "source": [
    "def do_math(a, b, kind='add'):\n",
    "    if (kind=='add'):\n",
    "        return a+b\n",
    "    else:\n",
    "        return a-b\n",
    "\n",
    "do_math(1, 2)"
   ]
  },
  {
   "cell_type": "code",
   "execution_count": 48,
   "metadata": {},
   "outputs": [
    {
     "name": "stdout",
     "output_type": "stream",
     "text": [
      "x,y (1, 'a', 2, 'b') [1, 2, 3, 'appended value']\n",
      "test [[1, 2, 3, 'appended value'], [4]]\n",
      "example\n",
      "[1]\n",
      "[1, 'a']\n",
      "[1, 'a', 2]\n",
      "[1, 'a', 2, 'b']\n",
      "Banana\n",
      "Kadali\n"
     ]
    },
    {
     "data": {
      "text/plain": [
       "OrderedDict([('HSCode', '2'),\n",
       "             ('Commodity', 'MEAT AND EDIBLE MEAT OFFAL.'),\n",
       "             ('value', '0.18'),\n",
       "             ('country', 'AFGHANISTAN TIS'),\n",
       "             ('year', '2018')])"
      ]
     },
     "execution_count": 48,
     "metadata": {},
     "output_type": "execute_result"
    }
   ],
   "source": [
    "#touples()\n",
    "x=(1,'a',2,'b')\n",
    "\n",
    "#lists[]\n",
    "y=[1,2,3]\n",
    "y.append('appended value')\n",
    "print(\"x,y\",x,y)\n",
    "\n",
    "#math operation on list\n",
    "someList=[4]\n",
    "l=[y]+[someList]\n",
    "print(\"test\",l)\n",
    "\n",
    "#slicing\n",
    "z='Slicing example'\n",
    "print(z[8:16])\n",
    "\n",
    "#check if a value in list\n",
    "1 in x\n",
    "\n",
    "#for\n",
    "k=[]\n",
    "for i in x:\n",
    "    k.append(i)\n",
    "    print(k)\n",
    "    \n",
    "    \n",
    "#dicitonary\n",
    "x={'a':\"Banana\",'b':\"Kadali\"}\n",
    "#print(x['a'])\n",
    "for fruits in x:\n",
    "    #print(fruits)\n",
    "    print(x[fruits])\n",
    "    \n",
    "#   Import csv\n",
    "import csv\n",
    "%precision 2\n",
    "with open('india-trade-data/2018-2010_export.csv')as csvfile:\n",
    "    mpg=list(csv.DictReader(csvfile))\n",
    "\n",
    "#first 3 element of the dictionary\n",
    "mpg['value']\n",
    "\n",
    "#get the column name using keys method\n",
    "#mpg[0].keys()\n",
    "\n",
    "#averge of value column\n",
    "#sum(float(d['value']) for d in mpg)"
   ]
  }
 ],
 "metadata": {
  "kernelspec": {
   "display_name": "Python 3",
   "language": "python",
   "name": "python3"
  },
  "language_info": {
   "codemirror_mode": {
    "name": "ipython",
    "version": 3
   },
   "file_extension": ".py",
   "mimetype": "text/x-python",
   "name": "python",
   "nbconvert_exporter": "python",
   "pygments_lexer": "ipython3",
   "version": "3.7.3"
  }
 },
 "nbformat": 4,
 "nbformat_minor": 2
}
